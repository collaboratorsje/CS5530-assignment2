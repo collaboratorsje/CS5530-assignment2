{
 "cells": [
  {
   "cell_type": "markdown",
   "metadata": {},
   "source": [
    "The provided data contains various details and attributes associated with used cars. The\n",
    "target variable, which is the central focus of analysis, is the price of the used cars, and it is measured in\n",
    "lakhs. The data in this dataset is tabular, with rows and columns, where each row represents a specific\n",
    "used car listing, and each column represents a particular attribute or feature of these cars. Features are\n",
    "Make and model of the car, Location or city of sale, Year of manufacture, Mileage, Odometer\n",
    "(kilometers driven), Fuel type (petrol or diesel), Transmission type (manual or automatic), Number of\n",
    "owners, Engine displacement, Engine horsepower, Number of seats, and Price when the car was new."
   ]
  },
  {
   "cell_type": "markdown",
   "metadata": {},
   "source": [
    "a) Look for the missing values in all the columns and either impute them (replace with mean,\n",
    "median, or mode) or drop them. Justify your action for this task. "
   ]
  },
  {
   "cell_type": "code",
   "execution_count": null,
   "metadata": {
    "vscode": {
     "languageId": "plaintext"
    }
   },
   "outputs": [],
   "source": []
  },
  {
   "cell_type": "markdown",
   "metadata": {},
   "source": [
    "b) Remove the units from some of the attributes and only keep the numerical values (for\n",
    "example remove kmpl from “Mileage”, CC from “Engine”, bhp from “Power”, and lakh from\n",
    "“New_price”)"
   ]
  },
  {
   "cell_type": "code",
   "execution_count": null,
   "metadata": {
    "vscode": {
     "languageId": "plaintext"
    }
   },
   "outputs": [],
   "source": []
  },
  {
   "cell_type": "markdown",
   "metadata": {},
   "source": [
    "C) Change the categorical variables (“Fuel_Type” and “Transmission”) into numerical one hot\n",
    "encoded value."
   ]
  },
  {
   "cell_type": "code",
   "execution_count": null,
   "metadata": {
    "vscode": {
     "languageId": "plaintext"
    }
   },
   "outputs": [],
   "source": []
  },
  {
   "cell_type": "markdown",
   "metadata": {},
   "source": [
    "d) Create one more feature and add this column to the dataset (you can use mutate function in\n",
    "R for this). For example, you can calculate the current age of the car by subtracting “Year” value\n",
    "from the current year."
   ]
  },
  {
   "cell_type": "code",
   "execution_count": null,
   "metadata": {
    "vscode": {
     "languageId": "plaintext"
    }
   },
   "outputs": [],
   "source": []
  }
 ],
 "metadata": {
  "language_info": {
   "name": "python"
  }
 },
 "nbformat": 4,
 "nbformat_minor": 2
}
