{
 "cells": [
  {
   "cell_type": "markdown",
   "metadata": {},
   "source": [
    "The provided data contains various details and attributes associated with used cars. The\n",
    "target variable, which is the central focus of analysis, is the price of the used cars, and it is measured in\n",
    "lakhs. The data in this dataset is tabular, with rows and columns, where each row represents a specific\n",
    "used car listing, and each column represents a particular attribute or feature of these cars. Features are\n",
    "Make and model of the car, Location or city of sale, Year of manufacture, Mileage, Odometer\n",
    "(kilometers driven), Fuel type (petrol or diesel), Transmission type (manual or automatic), Number of\n",
    "owners, Engine displacement, Engine horsepower, Number of seats, and Price when the car was new."
   ]
  },
  {
   "cell_type": "markdown",
   "metadata": {},
   "source": [
    "a) Look for the missing values in all the columns and either impute them (replace with mean,\n",
    "median, or mode) or drop them. Justify your action for this task. "
   ]
  },
  {
   "cell_type": "code",
   "execution_count": 6,
   "metadata": {},
   "outputs": [
    {
     "name": "stdout",
     "output_type": "stream",
     "text": [
      "The dataset contains other fuel types as well.\n",
      "Unique fuel types found: ['Diesel' 'Petrol' 'Electric']\n"
     ]
    }
   ],
   "source": [
    "import pandas as pd\n",
    "import os\n",
    "\n",
    "# Define the paths\n",
    "raw_data_path = '../data-raw/train.csv'\n",
    "cleaned_data_path = '../data-clean/cleaned-train.csv'\n",
    "\n",
    "# Load the data into a pandas DataFrame\n",
    "df = pd.read_csv(raw_data_path)\n",
    "\n",
    "# Clean the data\n",
    "# Find all unique values in the 'Fuel_Type' column\n",
    "unique_fuel_types = df['Fuel_Type'].unique()\n",
    "\n",
    "# Check if the unique values are only 'Petrol' and 'Diesel'\n",
    "if set(unique_fuel_types) == {'Petrol', 'Diesel'}:\n",
    "    print(\"The dataset only contains 'Petrol' and 'Diesel' as fuel types.\")\n",
    "else:\n",
    "    print(\"The dataset contains other fuel types as well.\")\n",
    "    print(\"Unique fuel types found:\", unique_fuel_types)\n",
    "\n",
    "# Save the cleaned data\n",
    "df.to_csv(cleaned_data_path, index=False)\n",
    "\n",
    "# Or drop rows with any missing values\n",
    "# df = df.dropna()\n"
   ]
  },
  {
   "cell_type": "markdown",
   "metadata": {},
   "source": [
    "b) Remove the units from some of the attributes and only keep the numerical values (for\n",
    "example remove kmpl from “Mileage”, CC from “Engine”, bhp from “Power”, and lakh from\n",
    "“New_price”)"
   ]
  },
  {
   "cell_type": "code",
   "execution_count": null,
   "metadata": {},
   "outputs": [],
   "source": []
  },
  {
   "cell_type": "markdown",
   "metadata": {},
   "source": [
    "c) Change the categorical variables (“Fuel_Type” and “Transmission”) into numerical one hot\n",
    "encoded value."
   ]
  },
  {
   "cell_type": "code",
   "execution_count": null,
   "metadata": {},
   "outputs": [],
   "source": []
  },
  {
   "cell_type": "markdown",
   "metadata": {},
   "source": [
    "d) Create one more feature and add this column to the dataset (you can use mutate function in\n",
    "R for this). For example, you can calculate the current age of the car by subtracting “Year” value\n",
    "from the current year."
   ]
  },
  {
   "cell_type": "code",
   "execution_count": null,
   "metadata": {},
   "outputs": [],
   "source": []
  }
 ],
 "metadata": {
  "kernelspec": {
   "display_name": "Python 3",
   "language": "python",
   "name": "python3"
  },
  "language_info": {
   "codemirror_mode": {
    "name": "ipython",
    "version": 3
   },
   "file_extension": ".py",
   "mimetype": "text/x-python",
   "name": "python",
   "nbconvert_exporter": "python",
   "pygments_lexer": "ipython3",
   "version": "3.11.5"
  }
 },
 "nbformat": 4,
 "nbformat_minor": 2
}
