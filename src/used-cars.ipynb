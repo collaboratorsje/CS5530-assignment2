{
 "cells": [
  {
   "cell_type": "markdown",
   "metadata": {},
   "source": [
    "The provided data contains various details and attributes associated with used cars. The\n",
    "target variable, which is the central focus of analysis, is the price of the used cars, and it is measured in\n",
    "lakhs. The data in this dataset is tabular, with rows and columns, where each row represents a specific\n",
    "used car listing, and each column represents a particular attribute or feature of these cars. Features are\n",
    "Make and model of the car, Location or city of sale, Year of manufacture, Mileage, Odometer\n",
    "(kilometers driven), Fuel type (petrol or diesel), Transmission type (manual or automatic), Number of\n",
    "owners, Engine displacement, Engine horsepower, Number of seats, and Price when the car was new."
   ]
  },
  {
   "cell_type": "markdown",
   "metadata": {},
   "source": [
    "The first thing I will do is import required modules and load the data into a pandas dataframe. I'll also create variables equal to the raw and cleaned data file paths."
   ]
  },
  {
   "cell_type": "code",
   "execution_count": 424,
   "metadata": {},
   "outputs": [],
   "source": [
    "import pandas as pd\n",
    "import os\n",
    "\n",
    "# Define the paths\n",
    "raw_data_path = '../data-raw/train.csv'\n",
    "cleaned_data_path = '../data-clean/cleaned-train.csv'\n",
    "\n",
    "# Load the data into a pandas DataFrame\n",
    "df = pd.read_csv(raw_data_path, index_col=0, na_values=['', ' ', '\\t'])\n",
    "# na_values=['',' ','\\t'] is setting any empty string, single space, or tab in a cell equal to NaN"
   ]
  },
  {
   "cell_type": "markdown",
   "metadata": {},
   "source": [
    "a) Look for the missing values in all the columns and either impute them (replace with mean,\n",
    "median, or mode) or drop them. Justify your action for this task. "
   ]
  },
  {
   "cell_type": "code",
   "execution_count": 425,
   "metadata": {},
   "outputs": [
    {
     "name": "stdout",
     "output_type": "stream",
     "text": [
      "Missing values in each column:\n",
      "\n",
      "Name                    0\n",
      "Location                0\n",
      "Year                    0\n",
      "Kilometers_Driven       0\n",
      "Fuel_Type               0\n",
      "Transmission            0\n",
      "Owner_Type              0\n",
      "Mileage                 2\n",
      "Engine                 36\n",
      "Power                  36\n",
      "Seats                  38\n",
      "New_Price            5032\n",
      "Price                   0\n",
      "dtype: int64\n"
     ]
    }
   ],
   "source": [
    "# Find out how many missing values are in each column \n",
    "\n",
    "# Count the number of missing values per column\n",
    "missing_values_count = df.isna().sum()\n",
    "\n",
    "# Print the number of missing values per column\n",
    "print('Missing values in each column:\\n')\n",
    "print(missing_values_count)\n",
    "\n",
    "# Save the cleaned data\n",
    "df.to_csv(cleaned_data_path)"
   ]
  },
  {
   "cell_type": "markdown",
   "metadata": {},
   "source": [
    "# Addressing missing values in 'Mileage' \n"
   ]
  },
  {
   "cell_type": "code",
   "execution_count": 426,
   "metadata": {},
   "outputs": [
    {
     "name": "stdout",
     "output_type": "stream",
     "text": [
      "                           Name Location  Year  Kilometers_Driven Fuel_Type  \\\n",
      "4446       Mahindra E Verito D4  Chennai  2016              50000  Electric   \n",
      "4904  Toyota Prius 2009-2016 Z4   Mumbai  2011              44000  Electric   \n",
      "\n",
      "     Transmission Owner_Type Mileage   Engine   Power  Seats   New_Price  \\\n",
      "4446    Automatic      First     NaN    72 CC  41 bhp    5.0  13.58 Lakh   \n",
      "4904    Automatic      First     NaN  1798 CC  73 bhp    5.0         NaN   \n",
      "\n",
      "      Price  \n",
      "4446  13.00  \n",
      "4904  12.75  \n"
     ]
    }
   ],
   "source": [
    "# Printing the full row of the 2 cars with mileage values of NaN\n",
    "nan_mileage_rows = df[df['Mileage'].isna()]\n",
    "print(nan_mileage_rows)\n",
    "# It turns out both the cars with NaN mileage values were electric cars."
   ]
  },
  {
   "cell_type": "markdown",
   "metadata": {},
   "source": [
    "JUSTIFICATION (To remove rows with NaN value in mileage column)\n",
    "\n",
    "Given that the NaN mileage values are for electric cars, using the mean, median, or mode of the mileage for non-electric cars wouldn't make sense, as these measures of central tendency are not applicable to electric vehicles. It wouldn't be appropriate to impute mileage for electric cars using these statistics derived from fuel-powered cars. This is because electric cars do not have mileage in the traditional sense, and imputing such values would lead to inaccuracies."
   ]
  },
  {
   "cell_type": "code",
   "execution_count": 427,
   "metadata": {},
   "outputs": [
    {
     "name": "stdout",
     "output_type": "stream",
     "text": [
      "2\n"
     ]
    }
   ],
   "source": [
    "# Printing number of cars with electric fuel type\n",
    "electric_rows = len(df[df['Fuel_Type'] == 'Electric'])\n",
    "print(electric_rows)"
   ]
  },
  {
   "cell_type": "markdown",
   "metadata": {},
   "source": [
    "JUSTIFICATION (cont.)\n",
    "\n",
    "Homogeneity of Data: The vast majority of the vehicles in the dataset are powered by traditional combustion engines, which means the 'Mileage' attribute is measured in terms like kmpl or km/kg. Electric vehicles, on the other hand, do not measure fuel efficiency in these terms. Including them would introduce a different type of measurement that is not directly comparable to the other vehicles in the dataset.\n",
    "\n",
    "Statistical Significance: With only two electric vehicles out of 6,000, these entries constitute a very small fraction of the dataset (approximately 0.033%). Their exclusion is unlikely to significantly alter any statistical analysis due to their negligible representation in the data.\n",
    "\n",
    "Data Consistency: For machine learning models or statistical analyses that expect uniform types of inputs, having two entries with a fundamentally different underlying concept of 'Mileage' could potentially introduce noise into the model or skew the analysis.\n",
    "\n",
    "\n",
    "Assignment Constraints: Based on the instructions provided for the assignment, there may not be a mechanism or guideline for handling the 'Mileage' of electric vehicles. Thus, in the absence of a clear method for conversion or accommodation, removing these data points may be the most straightforward compliance with the assignment's requirements. (The handout said impute with mean,median,mode or drop so I am not employing other options like a separate column)"
   ]
  },
  {
   "cell_type": "code",
   "execution_count": 428,
   "metadata": {},
   "outputs": [],
   "source": [
    "# Removal of the 2 rows with the electric cars that have NaN for a mileage value (heavily justified above)\n",
    "\n",
    "# Dropping rows is a last resort, see justification above for why it is done here\n",
    "df = df.dropna(subset=['Mileage'])\n",
    "\n",
    "# Save the cleaned data\n",
    "df.to_csv(cleaned_data_path)"
   ]
  },
  {
   "cell_type": "markdown",
   "metadata": {},
   "source": [
    "# Addressing missing values in 'Engine' column"
   ]
  },
  {
   "cell_type": "code",
   "execution_count": 429,
   "metadata": {},
   "outputs": [
    {
     "name": "stdout",
     "output_type": "stream",
     "text": [
      "count    5809.000000\n",
      "mean     1631.792391\n",
      "std       601.724341\n",
      "min       624.000000\n",
      "25%      1198.000000\n",
      "50%      1497.000000\n",
      "75%      1991.000000\n",
      "max      5998.000000\n",
      "Name: Engine, dtype: float64\n",
      "Skewness: 1.4128040259934405\n"
     ]
    },
    {
     "name": "stderr",
     "output_type": "stream",
     "text": [
      "/opt/homebrew/lib/python3.11/site-packages/seaborn/_oldcore.py:1498: FutureWarning: is_categorical_dtype is deprecated and will be removed in a future version. Use isinstance(dtype, CategoricalDtype) instead\n",
      "  if pd.api.types.is_categorical_dtype(vector):\n",
      "/opt/homebrew/lib/python3.11/site-packages/seaborn/_oldcore.py:1119: FutureWarning: use_inf_as_na option is deprecated and will be removed in a future version. Convert inf values to NaN before operating instead.\n",
      "  with pd.option_context('mode.use_inf_as_na', True):\n"
     ]
    },
    {
     "data": {
      "image/png": "[encoded data removed]",
      "text/plain": [
       "<Figure size 1000x600 with 1 Axes>"
      ]
     },
     "metadata": {},
     "output_type": "display_data"
    },
    {
     "name": "stderr",
     "output_type": "stream",
     "text": [
      "/opt/homebrew/lib/python3.11/site-packages/seaborn/_oldcore.py:1498: FutureWarning: is_categorical_dtype is deprecated and will be removed in a future version. Use isinstance(dtype, CategoricalDtype) instead\n",
      "  if pd.api.types.is_categorical_dtype(vector):\n"
     ]
    },
    {
     "data": {
      "image/png": "[encoded data removed]",
      "text/plain": [
       "<Figure size 1000x600 with 1 Axes>"
      ]
     },
     "metadata": {},
     "output_type": "display_data"
    }
   ],
   "source": [
    "import seaborn as sns\n",
    "import matplotlib.pyplot as plt\n",
    "\n",
    "# Performing statistical analysis to make the decision between using median and mean for imputation\n",
    "# Remove ' CC' and convert the column to numeric, coercing errors to NaN (in case there are any non-numeric entries)\n",
    "df['Engine'] = pd.to_numeric(df['Engine'].str.replace(' CC', ''), errors='coerce')\n",
    "\n",
    "# Now, you can check for skewness and outliers.\n",
    "\n",
    "# Statistical Summary\n",
    "print(df['Engine'].describe())\n",
    "\n",
    "# Skewness\n",
    "print(f\"Skewness: {df['Engine'].skew()}\")\n",
    "\n",
    "# Histogram to show the distribution\n",
    "plt.figure(figsize=(10, 6))\n",
    "sns.histplot(df['Engine'], kde=True)\n",
    "plt.title('Engine Size Distribution')\n",
    "plt.xlabel('Engine Size (CC)')\n",
    "plt.ylabel('Frequency')\n",
    "plt.grid(True)\n",
    "plt.show()\n",
    "\n",
    "# Boxplot to show the spread and identify outliers\n",
    "plt.figure(figsize=(10, 6))\n",
    "sns.boxplot(x=df['Engine'])\n",
    "plt.title('Boxplot for Engine Size')\n",
    "plt.xlabel('Engine Size (CC)')\n",
    "plt.grid(True)\n",
    "plt.show()"
   ]
  },
  {
   "cell_type": "markdown",
   "metadata": {},
   "source": [
    "JUSTIFICATION (Using median 'Engine' value for all NaN 'Engine' values)\n",
    "Analysis:\n",
    "Count: There are 5,811 non-null entries in the 'Engine' column.\n",
    "Mean: The average engine size is approximately 1631.55 CC.\n",
    "Standard Deviation (std): The std is 601.72 CC, indicating that there is a fair amount of variation in engine sizes.\n",
    "Min/Max: The smallest engine size is 624 CC and the largest is 5998 CC, showing a wide range of engine sizes.\n",
    "Quartiles: 50% of the engines (the middle 50%, between the 25th and 75th percentiles) range from 1198 CC to 1991 CC.\n",
    "Skewness: The skewness value is 1.41, which indicates a right-skewed (positive skew) distribution. This suggests that there is a tail in the distribution towards the larger engine sizes.\n",
    "Given the positive skewness, which is above 1, and the fact that the mean is greater than the median (50th percentile), the distribution of engine sizes is right-skewed. This typically means there are outliers on the higher end (larger engine sizes) that are pulling the mean to the right.\n",
    "\n",
    "In this case, using the median value might be a better choice for imputing missing values because it is less influenced by the right-skewed data and outliers. The median provides a more robust central tendency measure for a skewed distribution and will ensure that the imputed values are representative of the \"central\" data and not the outliers."
   ]
  },
  {
   "cell_type": "code",
   "execution_count": 430,
   "metadata": {},
   "outputs": [
    {
     "name": "stdout",
     "output_type": "stream",
     "text": [
      "Missing values in 'Engine' after imputation: 0\n"
     ]
    }
   ],
   "source": [
    "# Imputing the median for the 'engine' NaN values\n",
    "\n",
    "# Impute missing values with the median\n",
    "df['Engine'].fillna(df['Engine'].median(), inplace=True)\n",
    "\n",
    "# Save the cleaned data\n",
    "df.to_csv(cleaned_data_path)\n",
    "\n",
    "# Check the number of missing values in the 'Engine' column after imputation\n",
    "missing_values_after = df['Engine'].isna().sum()\n",
    "print(f\"Missing values in 'Engine' after imputation: {missing_values_after}\")\n"
   ]
  },
  {
   "cell_type": "markdown",
   "metadata": {},
   "source": [
    "# Addressing missing values in 'Power' column"
   ]
  },
  {
   "cell_type": "code",
   "execution_count": 431,
   "metadata": {},
   "outputs": [
    {
     "name": "stderr",
     "output_type": "stream",
     "text": [
      "/opt/homebrew/lib/python3.11/site-packages/seaborn/_oldcore.py:1498: FutureWarning: is_categorical_dtype is deprecated and will be removed in a future version. Use isinstance(dtype, CategoricalDtype) instead\n",
      "  if pd.api.types.is_categorical_dtype(vector):\n",
      "/opt/homebrew/lib/python3.11/site-packages/seaborn/_oldcore.py:1119: FutureWarning: use_inf_as_na option is deprecated and will be removed in a future version. Convert inf values to NaN before operating instead.\n",
      "  with pd.option_context('mode.use_inf_as_na', True):\n"
     ]
    },
    {
     "name": "stdout",
     "output_type": "stream",
     "text": [
      "Skewness: 1.9158414814424705\n",
      "count    5809.000000\n",
      "mean      113.822701\n",
      "std        53.894869\n",
      "min        34.200000\n",
      "25%        78.000000\n",
      "50%        98.600000\n",
      "75%       139.010000\n",
      "max       560.000000\n",
      "Name: Power, dtype: float64\n"
     ]
    },
    {
     "data": {
      "image/png": "[encoded data removed]",
      "text/plain": [
       "<Figure size 640x480 with 1 Axes>"
      ]
     },
     "metadata": {},
     "output_type": "display_data"
    },
    {
     "name": "stderr",
     "output_type": "stream",
     "text": [
      "/opt/homebrew/lib/python3.11/site-packages/seaborn/_oldcore.py:1498: FutureWarning: is_categorical_dtype is deprecated and will be removed in a future version. Use isinstance(dtype, CategoricalDtype) instead\n",
      "  if pd.api.types.is_categorical_dtype(vector):\n"
     ]
    },
    {
     "data": {
      "image/png": "[encoded data removed]",
      "text/plain": [
       "<Figure size 640x480 with 1 Axes>"
      ]
     },
     "metadata": {},
     "output_type": "display_data"
    }
   ],
   "source": [
    "# Convert 'Power' column to numeric, if not already done\n",
    "df['Power'] = pd.to_numeric(df['Power'].str.replace(' bhp', ''), errors='coerce')\n",
    "\n",
    "# Calculate the skewness\n",
    "print(f\"Skewness: {df['Power'].skew()}\")\n",
    "\n",
    "# Descriptive statistics\n",
    "print(df['Power'].describe())\n",
    "\n",
    "# Histogram\n",
    "sns.histplot(df['Power'].dropna(), kde=True)\n",
    "plt.title('Power Distribution')\n",
    "plt.xlabel('Power (bhp)')\n",
    "plt.ylabel('Density')\n",
    "plt.show()\n",
    "\n",
    "# Boxplot\n",
    "sns.boxplot(x=df['Power'])\n",
    "plt.title('Box Plot for Power')\n",
    "plt.show()\n"
   ]
  },
  {
   "cell_type": "markdown",
   "metadata": {},
   "source": [
    "JUSTIFICATION (Using median for missing values in 'Power' column)\n",
    "\n",
    "The skewness of the 'Power' column is approximately 1.92, which indicates a positively skewed (right-skewed) distribution. Additionally, the mean is significantly higher than the median, which is another indication of right skewness. This suggests that there are vehicles with high power values that are pulling the average to the right.\n",
    "\n",
    "Given the skewness and the presence of outliers (as indicated by the large difference between the max and the 75th percentile), it would be more appropriate to impute missing values using the median rather than the mean. The median is less affected by outliers and will provide a more central tendency for skewed distributions."
   ]
  },
  {
   "cell_type": "code",
   "execution_count": 432,
   "metadata": {},
   "outputs": [
    {
     "name": "stdout",
     "output_type": "stream",
     "text": [
      "Missing values in 'Power' after imputation: 0\n"
     ]
    }
   ],
   "source": [
    "# Impute missing values with the median\n",
    "df['Power'].fillna(df['Power'].median(), inplace=True)\n",
    "\n",
    "# Save the cleaned data\n",
    "df.to_csv(cleaned_data_path)\n",
    "\n",
    "# After imputation, check that there are no missing values left\n",
    "missing_values_after_imputation = df['Power'].isna().sum()\n",
    "print(f\"Missing values in 'Power' after imputation: {missing_values_after_imputation}\")\n"
   ]
  },
  {
   "cell_type": "markdown",
   "metadata": {},
   "source": [
    "# # Addressing missing values in 'Seats' column\n"
   ]
  },
  {
   "cell_type": "markdown",
   "metadata": {},
   "source": [
    "JUSTIFICATION (using mode for missing values in 'Seats' column)\n",
    "\n",
    "When imputing missing values for the 'Seats' column, it's important to note that the number of seats in a vehicle is typically a discrete and categorical feature rather than a continuous numerical one, even though it's represented by a number. Vehicles usually have a standard seating configuration (e.g., 2, 4, 5, 7, 8 seats), and these are often whole numbers without decimals.\n",
    "\n",
    "Given the categorical nature of 'Seats', the mode (most common value) is often used for imputation because it represents the most likely seating configuration for a car in the dataset."
   ]
  },
  {
   "cell_type": "code",
   "execution_count": 433,
   "metadata": {},
   "outputs": [
    {
     "name": "stdout",
     "output_type": "stream",
     "text": [
      "Missing values in 'Seats' after imputation: 0\n"
     ]
    }
   ],
   "source": [
    "# Assuming 'df' is your DataFrame\n",
    "# Calculate the mode of the 'Seats' column\n",
    "seats_mode = df['Seats'].mode()[0]\n",
    "# print(seats_mode)\n",
    "\n",
    "# Impute missing values with the mode\n",
    "df['Seats'].fillna(seats_mode, inplace=True)\n",
    "\n",
    "# Save the cleaned data\n",
    "df.to_csv(cleaned_data_path)\n",
    "\n",
    "# Verify the imputation\n",
    "print(f\"Missing values in 'Seats' after imputation: {df['Seats'].isna().sum()}\")\n"
   ]
  },
  {
   "cell_type": "markdown",
   "metadata": {},
   "source": [
    "# Addressing the 'New_Price' column\n",
    "\n",
    "JUSTIFICATION (To drop the column entirely)\n",
    "5032 missing values in a New_Price column that has 5847 entries. That is nearly 86% of the data. \n",
    "\n",
    "There is a possibility that you could relate the New_Price variable to some of the other variables using correlation or creating a predictive model to try and impute the values.\n",
    "\n",
    "I don't believe the professor had the expectation of us for this assignment and because using a mean, median, or mode value wouldn't make since either, and dropping the entire row for 86% of the data is certainly out of the question.\n",
    "\n",
    "Drop the Column: With such a high percentage of missing data, it may not be reliable or informative to impute. The imputed values could introduce significant bias and might not reflect the true variance and distribution of the original data."
   ]
  },
  {
   "cell_type": "code",
   "execution_count": 434,
   "metadata": {},
   "outputs": [],
   "source": [
    "# Drop the 'New_Price' column\n",
    "df.drop('New_Price', axis=1, inplace=True)\n",
    "\n",
    "# Save the cleaned data\n",
    "df.to_csv(cleaned_data_path)"
   ]
  },
  {
   "cell_type": "markdown",
   "metadata": {},
   "source": [
    "# Verify that all missing values are addressed"
   ]
  },
  {
   "cell_type": "code",
   "execution_count": 435,
   "metadata": {},
   "outputs": [
    {
     "name": "stdout",
     "output_type": "stream",
     "text": [
      "Missing values in each column:\n",
      "\n",
      "Name                 0\n",
      "Location             0\n",
      "Year                 0\n",
      "Kilometers_Driven    0\n",
      "Fuel_Type            0\n",
      "Transmission         0\n",
      "Owner_Type           0\n",
      "Mileage              0\n",
      "Engine               0\n",
      "Power                0\n",
      "Seats                0\n",
      "Price                0\n",
      "dtype: int64\n"
     ]
    }
   ],
   "source": [
    "# Find out how many missing values are in each column \n",
    "\n",
    "# Count the number of missing values per column\n",
    "missing_values_count = df.isna().sum()\n",
    "\n",
    "# Print the number of missing values per column\n",
    "print('Missing values in each column:\\n')\n",
    "print(missing_values_count)\n",
    "\n",
    "# Save the cleaned data\n",
    "df.to_csv(cleaned_data_path)"
   ]
  },
  {
   "cell_type": "markdown",
   "metadata": {},
   "source": [
    "b) Remove the units from some of the attributes and only keep the numerical values (for\n",
    "example remove kmpl from “Mileage”, CC from “Engine”, bhp from “Power”, and lakh from\n",
    "“New_price”) "
   ]
  },
  {
   "cell_type": "markdown",
   "metadata": {},
   "source": [
    "This has already been done for the Engine and Power columns, and the New_Price column was removed. This still needs to be done for the Mileage column."
   ]
  },
  {
   "cell_type": "code",
   "execution_count": 436,
   "metadata": {},
   "outputs": [],
   "source": [
    "# Removing units from 'Mileage' column\n",
    "\n",
    "df['Mileage'] = pd.to_numeric(df['Mileage'].str.extract(r'(\\d+\\.\\d+|\\d+)')[0], errors='coerce')\n",
    "\n",
    "# Save the cleaned data\n",
    "df.to_csv(cleaned_data_path)\n"
   ]
  },
  {
   "cell_type": "code",
   "execution_count": 437,
   "metadata": {},
   "outputs": [
    {
     "name": "stdout",
     "output_type": "stream",
     "text": [
      "Non-matching entries in column 'Mileage':\n",
      "Series([], Name: Mileage, dtype: float64)\n",
      "Count of non-matching entries in column 'Mileage': 0\n",
      "Non-matching entries in column 'Engine':\n",
      "Series([], Name: Engine, dtype: float64)\n",
      "Count of non-matching entries in column 'Engine': 0\n",
      "Non-matching entries in column 'Power':\n",
      "Series([], Name: Power, dtype: float64)\n",
      "Count of non-matching entries in column 'Power': 0\n"
     ]
    }
   ],
   "source": [
    "# Checking if all the data in my 'Mileage', 'Engine', and 'Power' is in desired format\n",
    "# Define a regular expression pattern that matches numerical values (including decimals)\n",
    "numeric_pattern = r'^\\d*\\.?\\d+$'\n",
    "\n",
    "# Check if all entries in each column match the numerical pattern\n",
    "for column in ['Mileage', 'Engine', 'Power']:\n",
    "    # Extract the string representations of the data, which may include the units\n",
    "    column_data_as_str = df[column].astype(str)\n",
    "    # Use the 'str.match' to see if the data matches the numeric pattern\n",
    "    matches_pattern = column_data_as_str.str.match(numeric_pattern)\n",
    "\n",
    "    # Any entry that doesn't match the pattern is a suspect and should be investigated\n",
    "    non_matching_entries = df[~matches_pattern]\n",
    "\n",
    "    # Print out the non-matching entries\n",
    "    print(f\"Non-matching entries in column '{column}':\")\n",
    "    print(non_matching_entries[column])\n",
    "\n",
    "    # Count the number of non-matching entries\n",
    "    non_matching_count = len(non_matching_entries)\n",
    "    print(f\"Count of non-matching entries in column '{column}': {non_matching_count}\")\n"
   ]
  },
  {
   "cell_type": "markdown",
   "metadata": {},
   "source": [
    "c) Change the categorical variables (“Fuel_Type” and “Transmission”) into numerical one hot\n",
    "encoded value."
   ]
  },
  {
   "cell_type": "code",
   "execution_count": 438,
   "metadata": {},
   "outputs": [
    {
     "name": "stdout",
     "output_type": "stream",
     "text": [
      "The dataset only contains 'Petrol' and 'Diesel' as fuel types.\n"
     ]
    }
   ],
   "source": [
    "# Find all unique values in the 'Fuel_Type' column\n",
    "unique_fuel_types = df['Fuel_Type'].unique()\n",
    "\n",
    "# Check if the unique values are only 'Petrol' and 'Diesel' \n",
    "# 'Electric' values were removed from the df\n",
    "if set(unique_fuel_types) == {'Petrol', 'Diesel'}:\n",
    "    print(\"The dataset only contains 'Petrol' and 'Diesel' as fuel types.\")\n",
    "else:\n",
    "    print(\"The dataset contains other fuel types as well.\")\n",
    "    print(\"Unique fuel types found:\", unique_fuel_types)"
   ]
  },
  {
   "cell_type": "code",
   "execution_count": 439,
   "metadata": {},
   "outputs": [
    {
     "name": "stdout",
     "output_type": "stream",
     "text": [
      "                               Name    Location  Year  Kilometers_Driven  \\\n",
      "1  Hyundai Creta 1.6 CRDi SX Option        Pune  2015              41000   \n",
      "2                      Honda Jazz V     Chennai  2011              46000   \n",
      "3                 Maruti Ertiga VDI     Chennai  2012              87000   \n",
      "4   Audi A4 New 2.0 TDI Multitronic  Coimbatore  2013              40670   \n",
      "6            Nissan Micra Diesel XV      Jaipur  2013              86999   \n",
      "\n",
      "  Owner_Type  Mileage  Engine   Power  Seats  Price  Fuel_Type_Diesel  \\\n",
      "1      First    19.67  1582.0  126.20    5.0  12.50              True   \n",
      "2      First    13.00  1199.0   88.70    5.0   4.50             False   \n",
      "3      First    20.77  1248.0   88.76    7.0   6.00              True   \n",
      "4     Second    15.20  1968.0  140.80    5.0  17.74              True   \n",
      "6      First    23.08  1461.0   63.10    5.0   3.50              True   \n",
      "\n",
      "   Fuel_Type_Petrol  Transmission_Automatic  Transmission_Manual  \n",
      "1             False                   False                 True  \n",
      "2              True                   False                 True  \n",
      "3             False                   False                 True  \n",
      "4             False                    True                False  \n",
      "6             False                   False                 True  \n"
     ]
    }
   ],
   "source": [
    "# One-hot encode the 'Fuel_Type' and 'Transmission' columns\n",
    "df_encoded = pd.get_dummies(df, columns=['Fuel_Type', 'Transmission'])\n",
    "\n",
    "# Save the cleaned data\n",
    "df.to_csv(cleaned_data_path)\n",
    "\n",
    "# df_encoded now has the original columns replaced with one-hot encoded columns\n",
    "print(df_encoded.head())  # Printing the first few rows to check the new DataFrame structure"
   ]
  },
  {
   "cell_type": "markdown",
   "metadata": {},
   "source": [
    "d) Create one more feature and add this column to the dataset (you can use mutate function in\n",
    "R for this). For example, you can calculate the current age of the car by subtracting “Year” value\n",
    "from the current year."
   ]
  },
  {
   "cell_type": "code",
   "execution_count": 440,
   "metadata": {},
   "outputs": [
    {
     "name": "stdout",
     "output_type": "stream",
     "text": [
      "      Year  Kilometers_Driven         KM/yr\n",
      "1     2015              41000   5125.000000\n",
      "2     2011              46000   3833.333333\n",
      "3     2012              87000   7909.090909\n",
      "4     2013              40670   4067.000000\n",
      "6     2013              86999   8699.900000\n",
      "...    ...                ...           ...\n",
      "6014  2014              27365   3040.555556\n",
      "6015  2015             100000  12500.000000\n",
      "6016  2012              55000   5000.000000\n",
      "6017  2013              46000   4600.000000\n",
      "6018  2011              47000   3916.666667\n",
      "\n",
      "[5845 rows x 3 columns]\n"
     ]
    }
   ],
   "source": [
    "from datetime import datetime\n",
    "\n",
    "# Making a new feature/column that is just the amount of kilometers driven per year\n",
    "# This is just the kilometers driven by the car divided by the age of the car in years\n",
    "# The age of the car is just current year - 'Year', and that value is the denominator\n",
    "\n",
    "# Get the current year\n",
    "current_year = datetime.now().year\n",
    "\n",
    "# Create the new 'KM/YR' column\n",
    "# Note: To avoid division by zero, we add a check where current_year is the same as 'Year'\n",
    "df['KM/yr'] = df.apply(lambda row: row['Kilometers_Driven'] / (current_year - row['Year']) if (current_year - row['Year']) > 0 else row['Kilometers_Driven'], axis=1)\n",
    "\n",
    "# Display the DataFrame to verify the new column\n",
    "print(df[['Year', 'Kilometers_Driven', 'KM/yr']])"
   ]
  }
 ],
 "metadata": {
  "kernelspec": {
   "display_name": "Python 3",
   "language": "python",
   "name": "python3"
  },
  "language_info": {
   "codemirror_mode": {
    "name": "ipython",
    "version": 3
   },
   "file_extension": ".py",
   "mimetype": "text/x-python",
   "name": "python",
   "nbconvert_exporter": "python",
   "pygments_lexer": "ipython3",
   "version": "3.11.5"
  }
 },
 "nbformat": 4,
 "nbformat_minor": 2
}
